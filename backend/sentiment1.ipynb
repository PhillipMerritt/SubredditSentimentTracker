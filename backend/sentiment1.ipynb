{
 "cells": [
  {
   "cell_type": "markdown",
   "metadata": {},
   "source": [
    "#Text Sentiment Test\n"
   ]
  },
  {
   "cell_type": "code",
   "execution_count": null,
   "metadata": {},
   "outputs": [],
   "source": [
    "#Be sure to install libraries enabling sentiment analisys"
   ]
  },
  {
   "cell_type": "code",
   "execution_count": 1,
   "metadata": {},
   "outputs": [
    {
     "name": "stdout",
     "output_type": "stream",
     "text": [
      "Defaulting to user installation because normal site-packages is not writeable\n",
      "Collecting azure-ai-textanalytics\n",
      "  Downloading azure_ai_textanalytics-5.1.0b2-py2.py3-none-any.whl (101 kB)\n",
      "\u001b[K     |████████████████████████████████| 101 kB 4.0 MB/s ta 0:00:011\n",
      "\u001b[?25hRequirement already satisfied: six>=1.6 in /usr/lib/python3/dist-packages (from azure-ai-textanalytics) (1.14.0)\n",
      "Requirement already satisfied: azure-common~=1.1 in ./.local/lib/python3.8/site-packages (from azure-ai-textanalytics) (1.1.25)\n",
      "Requirement already satisfied: msrest>=0.6.0 in ./.local/lib/python3.8/site-packages (from azure-ai-textanalytics) (0.6.19)\n",
      "Requirement already satisfied: azure-core<2.0.0,>=1.4.0 in ./.local/lib/python3.8/site-packages (from azure-ai-textanalytics) (1.8.1)\n",
      "Requirement already satisfied: isodate>=0.6.0 in ./.local/lib/python3.8/site-packages (from msrest>=0.6.0->azure-ai-textanalytics) (0.6.0)\n",
      "Requirement already satisfied: requests~=2.16 in /usr/lib/python3/dist-packages (from msrest>=0.6.0->azure-ai-textanalytics) (2.22.0)\n",
      "Requirement already satisfied: requests-oauthlib>=0.5.0 in /usr/lib/python3/dist-packages (from msrest>=0.6.0->azure-ai-textanalytics) (1.0.0)\n",
      "Requirement already satisfied: certifi>=2017.4.17 in ./.local/lib/python3.8/site-packages (from msrest>=0.6.0->azure-ai-textanalytics) (2020.6.20)\n",
      "Installing collected packages: azure-ai-textanalytics\n",
      "Successfully installed azure-ai-textanalytics-5.1.0b2\n",
      "\u001b[33mWARNING: You are using pip version 20.2.3; however, version 20.2.4 is available.\n",
      "You should consider upgrading via the '/usr/bin/python3 -m pip install --upgrade pip' command.\u001b[0m\n"
     ]
    }
   ],
   "source": [
    "!pip install azure-ai-textanalytics --pre\n"
   ]
  },
  {
   "cell_type": "code",
   "execution_count": null,
   "metadata": {},
   "outputs": [],
   "source": [
    "#setup keys and endpoint"
   ]
  },
  {
   "cell_type": "code",
   "execution_count": 10,
   "metadata": {},
   "outputs": [],
   "source": [
    "\n",
    "key = \"36e55f902483497bae2aa7bcbb663a52\"\n",
    "endpoint = \"https://textsentimentcheck.cognitiveservices.azure.com/\"\n",
    "\n"
   ]
  },
  {
   "cell_type": "code",
   "execution_count": 11,
   "metadata": {},
   "outputs": [],
   "source": [
    "#Establish communication with service/get client authorization"
   ]
  },
  {
   "cell_type": "code",
   "execution_count": 12,
   "metadata": {},
   "outputs": [],
   "source": [
    "from azure.ai.textanalytics import TextAnalyticsClient\n",
    "from azure.core.credentials import AzureKeyCredential\n",
    "\n",
    "def authenticate_client():\n",
    "    ta_credential = AzureKeyCredential(key)\n",
    "    text_analytics_client = TextAnalyticsClient(\n",
    "            endpoint=endpoint, \n",
    "            credential=ta_credential)\n",
    "    return text_analytics_client\n",
    "\n",
    "client = authenticate_client()"
   ]
  },
  {
   "cell_type": "markdown",
   "metadata": {},
   "source": [
    "#The following definition will be used for asserting sentiment\n",
    "This requires 2 arguments:\n",
    "    client - the authorized client using services\n",
    "    documents - the string of sentences to analize"
   ]
  },
  {
   "cell_type": "code",
   "execution_count": 16,
   "metadata": {},
   "outputs": [],
   "source": [
    "def sentiment_analysis_example(client, documents):\n",
    "\n",
    "#    documents = [\"I had the best day of my life. I wish you were there with me.\"]\n",
    "    response = client.analyze_sentiment(documents=documents)[0]\n",
    "    print(\"Document Sentiment: {}\".format(response.sentiment))\n",
    "    print(\"Overall scores: positive={0:.2f}; neutral={1:.2f}; negative={2:.2f} \\n\".format(\n",
    "        response.confidence_scores.positive,\n",
    "        response.confidence_scores.neutral,\n",
    "        response.confidence_scores.negative,\n",
    "    ))\n",
    "    for idx, sentence in enumerate(response.sentences):\n",
    "        print(\"Sentence: {}\".format(sentence.text))\n",
    "        print(\"Sentence {} sentiment: {}\".format(idx+1, sentence.sentiment))\n",
    "        print(\"Sentence score:\\nPositive={0:.2f}\\nNeutral={1:.2f}\\nNegative={2:.2f}\\n\".format(\n",
    "            sentence.confidence_scores.positive,\n",
    "            sentence.confidence_scores.neutral,\n",
    "            sentence.confidence_scores.negative,\n",
    "        ))\n",
    "\n",
    "def sentiment_analysis_with_opinion_mining_example(client, documents):\n",
    "\n",
    "#    documents = [\n",
    "#        \"The food and service were unacceptable, but the concierge were nice\",\n",
    "#        \"The rooms were beautiful but dirty. The AC was good and quiet, but the elevator was broken\"\n",
    "#    ]\n",
    "\n",
    "    result = client.analyze_sentiment(documents, show_opinion_mining=True)\n",
    "    doc_result = [doc for doc in result if not doc.is_error]\n",
    "\n",
    "    positive_reviews = [doc for doc in doc_result if doc.sentiment == \"positive\"]\n",
    "    negative_reviews = [doc for doc in doc_result if doc.sentiment == \"negative\"]\n",
    "\n",
    "    positive_mined_opinions = []\n",
    "    mixed_mined_opinions = []\n",
    "    negative_mined_opinions = []\n",
    "\n",
    "    for document in doc_result:\n",
    "        print(\"Document Sentiment: {}\".format(document.sentiment))\n",
    "        print(\"Overall scores: positive={0:.2f}; neutral={1:.2f}; negative={2:.2f} \\n\".format(\n",
    "            document.confidence_scores.positive,\n",
    "            document.confidence_scores.neutral,\n",
    "            document.confidence_scores.negative,\n",
    "        ))\n",
    "        for sentence in document.sentences:\n",
    "            print(\"Sentence: {}\".format(sentence.text))\n",
    "            print(\"Sentence sentiment: {}\".format(sentence.sentiment))\n",
    "            print(\"Sentence score:\\nPositive={0:.2f}\\nNeutral={1:.2f}\\nNegative={2:.2f}\\n\".format(\n",
    "                sentence.confidence_scores.positive,\n",
    "                sentence.confidence_scores.neutral,\n",
    "                sentence.confidence_scores.negative,\n",
    "            ))\n",
    "            for mined_opinion in sentence.mined_opinions:\n",
    "                aspect = mined_opinion.aspect\n",
    "                print(\"......'{}' aspect '{}'\".format(aspect.sentiment, aspect.text))\n",
    "                for opinion in mined_opinion.opinions:\n",
    "                    print(\"......'{}' opinion '{}'\".format(opinion.sentiment, opinion.text))\n",
    "        print(\"\\n\")\n",
    "          \n",
    "\n"
   ]
  },
  {
   "cell_type": "code",
   "execution_count": 14,
   "metadata": {},
   "outputs": [],
   "source": [
    "#setup test case and process\n",
    "there are 2 methods here:\n",
    "    1. sentiment_analysis_example(client, documents)\n",
    "    2. sentiment_analysis_with_option_mining_example(client, documents)\n",
    "    \n",
    "\n",
    "Please note the differences in the output.  The second provides more detail if desired.\n"
   ]
  },
  {
   "cell_type": "code",
   "execution_count": 18,
   "metadata": {},
   "outputs": [
    {
     "name": "stdout",
     "output_type": "stream",
     "text": [
      "Document Sentiment: negative\n",
      "Overall scores: positive=0.00; neutral=0.00; negative=1.00 \n",
      "\n",
      "Sentence: You are really one sorry SOB!\n",
      "Sentence 1 sentiment: negative\n",
      "Sentence score:\n",
      "Positive=0.00\n",
      "Neutral=0.00\n",
      "Negative=1.00\n",
      "\n",
      "Sentence: I can't believe you did that!.\n",
      "Sentence 2 sentiment: neutral\n",
      "Sentence score:\n",
      "Positive=0.00\n",
      "Neutral=1.00\n",
      "Negative=0.00\n",
      "\n",
      "Sentence: What is wrong with you!\n",
      "Sentence 3 sentiment: negative\n",
      "Sentence score:\n",
      "Positive=0.00\n",
      "Neutral=0.00\n",
      "Negative=1.00\n",
      "\n",
      "Document Sentiment: positive\n",
      "Overall scores: positive=0.84; neutral=0.00; negative=0.16 \n",
      "\n",
      "Sentence: The food and service were unacceptable, but the concierge were nice\n",
      "Sentence sentiment: positive\n",
      "Sentence score:\n",
      "Positive=0.84\n",
      "Neutral=0.00\n",
      "Negative=0.16\n",
      "\n",
      "......'negative' aspect 'food'\n",
      "......'negative' opinion 'unacceptable'\n",
      "......'negative' aspect 'service'\n",
      "......'negative' opinion 'unacceptable'\n",
      "......'positive' aspect 'concierge'\n",
      "......'positive' opinion 'nice'\n",
      "\n",
      "\n",
      "Document Sentiment: negative\n",
      "Overall scores: positive=0.00; neutral=0.00; negative=1.00 \n",
      "\n",
      "Sentence: The rooms were beautiful but dirty.\n",
      "Sentence sentiment: negative\n",
      "Sentence score:\n",
      "Positive=0.01\n",
      "Neutral=0.00\n",
      "Negative=0.99\n",
      "\n",
      "......'mixed' aspect 'rooms'\n",
      "......'positive' opinion 'beautiful'\n",
      "......'negative' opinion 'dirty'\n",
      "Sentence: The AC was good and quiet, but the elevator was broken\n",
      "Sentence sentiment: negative\n",
      "Sentence score:\n",
      "Positive=0.00\n",
      "Neutral=0.00\n",
      "Negative=1.00\n",
      "\n",
      "......'positive' aspect 'AC'\n",
      "......'positive' opinion 'good'\n",
      "......'positive' opinion 'quiet'\n",
      "......'negative' aspect 'elevator'\n",
      "......'negative' opinion 'broken'\n",
      "\n",
      "\n"
     ]
    }
   ],
   "source": [
    "\n",
    "documents = [\"You are really one sorry SOB!  I can't believe you did that!.  What is wrong with you!\"]\n",
    "sentiment_analysis_example(client, documents)\n",
    "documents = [\n",
    "    \"The food and service were unacceptable, but the concierge were nice\",\n",
    "    \"The rooms were beautiful but dirty. The AC was good and quiet, but the elevator was broken\"\n",
    "]\n",
    "sentiment_analysis_with_opinion_mining_example(client, documents)"
   ]
  },
  {
   "cell_type": "code",
   "execution_count": null,
   "metadata": {},
   "outputs": [],
   "source": []
  }
 ],
 "metadata": {
  "kernelspec": {
   "display_name": "Python 3",
   "language": "python",
   "name": "python3"
  },
  "language_info": {
   "codemirror_mode": {
    "name": "ipython",
    "version": 3
   },
   "file_extension": ".py",
   "mimetype": "text/x-python",
   "name": "python",
   "nbconvert_exporter": "python",
   "pygments_lexer": "ipython3",
   "version": "3.8.5"
  }
 },
 "nbformat": 4,
 "nbformat_minor": 4
}
